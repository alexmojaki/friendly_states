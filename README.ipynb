{
 "cells": [
  {
   "cell_type": "markdown",
   "metadata": {},
   "source": [
    "# friendly_states\n",
    "\n",
    "This is a Python library for writing finite state machines in a way that's easy to read and prevents mistakes with the help of standard linters and IDEs.\n",
    "\n",
    "Here's a simple example of declaring a state machine:"
   ]
  },
  {
   "cell_type": "code",
   "execution_count": 1,
   "metadata": {},
   "outputs": [],
   "source": [
    "from __future__ import annotations\n",
    "from friendly_states import AttributeState\n",
    "\n",
    "\n",
    "class TrafficLightMachine(AttributeState):\n",
    "    is_machine = True\n",
    "\n",
    "    class Summary:\n",
    "        Green: [Yellow]\n",
    "        Yellow: [Red]\n",
    "        Red: [Green]\n",
    "\n",
    "\n",
    "class Green(TrafficLightMachine):\n",
    "    def slow_down(self) -> [Yellow]:\n",
    "        print(\"Slowing down...\")\n",
    "\n",
    "\n",
    "class Yellow(TrafficLightMachine):\n",
    "    def stop(self) -> [Red]:\n",
    "        print(\"Stop.\")\n",
    "\n",
    "\n",
    "class Red(TrafficLightMachine):\n",
    "    def go(self) -> [Green]:\n",
    "        print(\"Go!\")\n",
    "\n",
    "\n",
    "TrafficLightMachine.complete()"
   ]
  },
  {
   "cell_type": "markdown",
   "metadata": {},
   "source": [
    "That looks like a lot of code, but it's pretty simple:\n",
    "\n",
    "1. `TrafficLightMachine` declares the root of a state machine.\n",
    "2. There are three states, which are subclasses of the machine: `Green`, `Yellow`, and `Red`.\n",
    "3. Each state declares which transitions it allows to other states using functions with a return annotation (`->`). In this case, each state has one transition to one other state. For example, `Green` can transition to `Yellow` via the `slow_down` method.\n",
    "4. `TrafficLightMachine.complete()` makes the machine ready for use and checks that everything is correct. In particular it verifies that the `Summary` class inside `TrafficLightMachine` matches the actual states and transitions declared. Each line of the summary shows all the possible output states from each state.\n",
    "\n",
    "As we'll see later, a lot of the boilerplate can be generated for you, so don't worry about the effort of writing all those classes.\n",
    "\n",
    "To use this machine, first we need an object that can store its own state. When using this library, state can be stored however you want, but the way we've declared our machine means it expects an attribute called `state`:"
   ]
  },
  {
   "cell_type": "code",
   "execution_count": 2,
   "metadata": {},
   "outputs": [
    {
     "data": {
      "text/plain": [
       "Green"
      ]
     },
     "execution_count": 2,
     "metadata": {},
     "output_type": "execute_result"
    }
   ],
   "source": [
    "class TrafficLight:\n",
    "    def __init__(self, state):\n",
    "        self.state = state\n",
    "\n",
    "light = TrafficLight(Green)\n",
    "light.state"
   ]
  },
  {
   "cell_type": "markdown",
   "metadata": {},
   "source": [
    "The magic happens when making transitions:"
   ]
  },
  {
   "cell_type": "code",
   "execution_count": 3,
   "metadata": {},
   "outputs": [
    {
     "name": "stdout",
     "output_type": "stream",
     "text": [
      "Slowing down...\n",
      "Stop.\n"
     ]
    },
    {
     "data": {
      "text/plain": [
       "Red"
      ]
     },
     "execution_count": 3,
     "metadata": {},
     "output_type": "execute_result"
    }
   ],
   "source": [
    "Green(light).slow_down()\n",
    "Yellow(light).stop()\n",
    "light.state"
   ]
  },
  {
   "cell_type": "markdown",
   "metadata": {},
   "source": [
    "Making an instance of a state class such as `Green(light)` automatically checks that `light` is actually in the `Green` state and raises an exception if it's not.\n",
    "Then you can call methods just like any other class. The state will automatically be changed based on the method's return annotation.\n",
    "\n",
    "Why is this exciting? Because it's obvious to tools which transitions are available to each state. Your IDE can autocomplete `Green(light).slo` for you, and `Green(light).stop()` will be highlighted as an error before you even run the code.\n",
    "\n",
    "Compare this with the popular library [`transitions`](https://github.com/pytransitions/transitions). States, transitions, and callbacks are all declared using strings, so it's easy to make typos and tools can't help you. In fact you have to stop your tools from warning you about all the attributes it magically generates which you have to use. There's no easy way to see all the transitions or output states from a particular state. Callbacks can be declared far away from transitions.\n",
    "\n",
    "By contrast, when using `friendly_states`, there are no strings or magic attributes anywhere. Code is always naturally grouped together: all the transitions specific to a state appear inside that class, and logic related to a transition is in that function where you'd expect it.\n",
    "\n",
    "## Basic usage steps\n",
    "\n",
    "1) Ensure that you are using Python 3.7+.\n",
    "\n",
    "2) Install this library with `pip install friendly_states`.\n",
    "\n",
    "3) Add the line `from __future__ import annotations` at the top of the file where you define your state machine.\n",
    "\n",
    "4) Declare the root of your state machine like so:"
   ]
  },
  {
   "cell_type": "code",
   "execution_count": 4,
   "metadata": {},
   "outputs": [],
   "source": [
    "from __future__ import annotations\n",
    "from friendly_states import AttributeState\n",
    "    \n",
    "class MyMachine(AttributeState):\n",
    "    is_machine = True\n",
    "    \n",
    "    class Summary:\n",
    "        Waiting: [Doing, Finished]\n",
    "        Doing: [Checking, Finished]\n",
    "        Checking: [Finished]\n",
    "        Finished: []\n"
   ]
  },
  {
   "cell_type": "markdown",
   "metadata": {},
   "source": [
    "Declaring a summary is optional, but highly recommended. The class must be named `Summary`.\n",
    "It should declare the name of every state your machine will have, \n",
    "each annotated with a list of every state that can be reached directly from that state by any transition.\n",
    "   \n",
    "When you call `MyMachine.complete()`, this summary will be checked, and an exception will be raised explaining the problem if it doesn't match your state classes. In particular if a class is missing the exception will contain generated source code for that class so you can spend less time writing boilerplate. Let's try it now:"
   ]
  },
  {
   "cell_type": "code",
   "execution_count": 5,
   "metadata": {},
   "outputs": [
    {
     "name": "stdout",
     "output_type": "stream",
     "text": [
      "\n",
      "Missing states:\n",
      "\n",
      "class Waiting(MyMachine):\n",
      "    def to_doing(self) -> [Doing]:\n",
      "        pass\n",
      "\n",
      "    def to_finished(self) -> [Finished]:\n",
      "        pass\n",
      "\n",
      "\n",
      "class Doing(MyMachine):\n",
      "    def to_checking(self) -> [Checking]:\n",
      "        pass\n",
      "\n",
      "    def to_finished(self) -> [Finished]:\n",
      "        pass\n",
      "\n",
      "\n",
      "class Checking(MyMachine):\n",
      "    def to_finished(self) -> [Finished]:\n",
      "        pass\n",
      "\n",
      "\n",
      "class Finished(MyMachine):\n",
      "    pass\n",
      "\n",
      "\n",
      "\n"
     ]
    }
   ],
   "source": [
    "try:\n",
    "    MyMachine.complete()\n",
    "except Exception as e:\n",
    "    print(e)"
   ]
  },
  {
   "cell_type": "markdown",
   "metadata": {},
   "source": [
    "You can copy the code above and will have a working state machine matching the summary. It's usually not exactly what you need, but it should save you a lot of time for the next step.\n",
    "\n",
    "5) Write a class for each state. In this case our final code will look pretty similar to the generated boilerplate above. Make sure you call `.complete()` at the end."
   ]
  },
  {
   "cell_type": "code",
   "execution_count": 6,
   "metadata": {},
   "outputs": [],
   "source": [
    "class Waiting(MyMachine):\n",
    "    def start_doing(self) -> [Doing]:\n",
    "        print('Starting now!')   \n",
    "\n",
    "    def skip(self) -> [Finished]:\n",
    "        pass   \n",
    "\n",
    "\n",
    "class Doing(MyMachine):\n",
    "    def done(self, result) -> [Checking, Finished]:\n",
    "        self.obj.result = result\n",
    "        if self.obj.needs_checking():\n",
    "            return Checking\n",
    "        else:\n",
    "            return Finished\n",
    "\n",
    "\n",
    "class Checking(MyMachine):\n",
    "    def check(self) -> [Finished]:\n",
    "        print('Looks good!')\n",
    "\n",
    "\n",
    "class Finished(MyMachine):\n",
    "    pass\n",
    "\n",
    "\n",
    "MyMachine.complete()"
   ]
  },
  {
   "cell_type": "markdown",
   "metadata": {},
   "source": [
    "State classes must inherit (directly or indirectly) from the machine class, e.g. `class Waiting(MyMachine):`. A class can have any number of transitions. `Waiting` has two separate transitions, while `Finished` has none, meaning you can't leave that state. It can also have any other methods or attributes which are not transitions, like a normal class.\n",
    "\n",
    "A transition is any method which has a return annotation (the bit after the `->` in the function definition) which is a list. The list must have one or more states that will be the result of this transition. For example, this code:\n",
    "\n",
    "```python\n",
    "class Waiting(MyMachine):\n",
    "    def start_doing(self) -> [Doing]:\n",
    "```\n",
    "\n",
    "means that `start_doing` is a transition from the state `Waiting` to the state `Doing`, and calling that method will change the state.\n",
    "\n",
    "The transition `Doing.done` demonstrates several interesting things:\n",
    "\n",
    "- A transition can have multiple output states. In that case the method must return one of those states to indicate which one to switch to.\n",
    "- Transitions are just like normal methods and can accept whatever arguments you want.\n",
    "- States have an attribute `obj` which is the object that was passed to the class when it was constructed. This lets you interact with the object whose state is changing.\n",
    "\n",
    "6) The machine doesn't store the state itself, make a different class for that:"
   ]
  },
  {
   "cell_type": "code",
   "execution_count": 7,
   "metadata": {},
   "outputs": [],
   "source": [
    "class Task:\n",
    "    def __init__(self):\n",
    "        self.state = Waiting\n",
    "        self.result = None\n",
    "    \n",
    "    def needs_checking(self):\n",
    "        return self.result < 5\n",
    "\n",
    "    \n",
    "task = Task()\n",
    "assert task.result is None\n",
    "assert task.state is Waiting"
   ]
  },
  {
   "cell_type": "markdown",
   "metadata": {},
   "source": [
    "Our example machine expects to find an attribute called `state` on its objects, as we've provided here. If you have different needs, see the [TODO](#TODO) section.\n",
    "\n",
    "To change the state of your object, you first need to know what state it's in right now. Sometimes you'll need to check, but often it'll be obvious in the context of your application. For example, if we have a queue of fresh tasks, any task we pop from that queue will be in state `Waiting`.\n",
    "\n",
    "Construct an instance of the correct state class and pass your object:"
   ]
  },
  {
   "cell_type": "code",
   "execution_count": 8,
   "metadata": {},
   "outputs": [
    {
     "data": {
      "text/plain": [
       "Waiting(obj=<__main__.Task object at 0x10e1642e8>)"
      ]
     },
     "execution_count": 8,
     "metadata": {},
     "output_type": "execute_result"
    }
   ],
   "source": [
    "Waiting(task)"
   ]
  },
  {
   "cell_type": "markdown",
   "metadata": {},
   "source": [
    "If you get the current state of a task wrong, that means there's a bug in your code! \n",
    "It will throw an exception before you can even call any transitions:"
   ]
  },
  {
   "cell_type": "code",
   "execution_count": 9,
   "metadata": {},
   "outputs": [
    {
     "name": "stdout",
     "output_type": "stream",
     "text": [
      "<__main__.Task object at 0x10e1642e8> should be in state Doing but is actually in state Waiting\n"
     ]
    }
   ],
   "source": [
    "try:\n",
    "    Doing(task)\n",
    "except Exception as e:\n",
    "    print(e)"
   ]
  },
  {
   "cell_type": "markdown",
   "metadata": {},
   "source": [
    "Once you have an instance of the correct state, call whatever methods you want on it as usual. If the method is a transition, the state will automatically be changed afterwards:"
   ]
  },
  {
   "cell_type": "code",
   "execution_count": 10,
   "metadata": {},
   "outputs": [],
   "source": [
    "Waiting(task).skip()\n",
    "assert task.state is Finished"
   ]
  },
  {
   "cell_type": "markdown",
   "metadata": {},
   "source": [
    "If you try calling a transition that doesn't exist for a state, the library doesn't even need to do anything. You'll just get the plain Python error you always get when calling a non-existent method, and your IDE/linter will warn you in advance:"
   ]
  },
  {
   "cell_type": "code",
   "execution_count": 11,
   "metadata": {},
   "outputs": [
    {
     "name": "stdout",
     "output_type": "stream",
     "text": [
      "'Waiting' object has no attribute 'done'\n"
     ]
    }
   ],
   "source": [
    "task = Task()\n",
    "try:\n",
    "    Waiting(task).done(3)\n",
    "except AttributeError as e:\n",
    "    print(e)"
   ]
  },
  {
   "cell_type": "markdown",
   "metadata": {},
   "source": [
    "Here are the other 2 possible paths for a task from waiting to finished:"
   ]
  },
  {
   "cell_type": "code",
   "execution_count": 12,
   "metadata": {},
   "outputs": [
    {
     "name": "stdout",
     "output_type": "stream",
     "text": [
      "Starting now!\n",
      "Looks good!\n"
     ]
    }
   ],
   "source": [
    "task = Task()\n",
    "Waiting(task).start_doing()\n",
    "Doing(task).done(3)\n",
    "assert task.result == 3\n",
    "Checking(task).check()\n",
    "assert task.state is Finished"
   ]
  },
  {
   "cell_type": "code",
   "execution_count": 13,
   "metadata": {},
   "outputs": [
    {
     "name": "stdout",
     "output_type": "stream",
     "text": [
      "Starting now!\n"
     ]
    }
   ],
   "source": [
    "task = Task()\n",
    "Waiting(task).start_doing()\n",
    "Doing(task).done(7)\n",
    "# The result '7' doesn't need checking\n",
    "assert task.state is Finished"
   ]
  },
  {
   "cell_type": "markdown",
   "metadata": {},
   "source": [
    "## Abstract state classes\n",
    "\n",
    "Sometimes you will have common behaviour that you need to share between state classes. In that case you can use class inheritance. Here's what you need to be aware of:\n",
    "\n",
    "1. You can't inherit from actual state classes.\n",
    "2. Transitions must live in classes that inherit (directly or indirectly) from the machine class.\n",
    "3. Classes that inherit from the machine (and thus can have transitions) but do not represent actual states (and thus can be inherited from) should have `abstract = True` in their body.\n",
    "\n",
    "Here's an example:"
   ]
  },
  {
   "cell_type": "code",
   "execution_count": 14,
   "metadata": {},
   "outputs": [],
   "source": [
    "class TaskMachine2(AttributeState):\n",
    "    is_machine = True\n",
    "    \n",
    "    class Summary:\n",
    "        Waiting: [Doing, Finished]\n",
    "        Doing: [Finished]\n",
    "        Finished: []\n",
    "\n",
    "            \n",
    "class Unfinished(TaskMachine2):\n",
    "    is_abstract = True\n",
    "    \n",
    "    def finish(self) -> [Finished]:\n",
    "        pass\n",
    "\n",
    "    \n",
    "class Waiting(Unfinished):\n",
    "    def start_doing(self) -> [Doing]:\n",
    "        pass\n",
    "\n",
    "\n",
    "class Doing(Unfinished):\n",
    "    pass\n",
    "\n",
    "\n",
    "class Finished(TaskMachine2):\n",
    "    pass\n",
    "\n",
    "\n",
    "TaskMachine2.complete()    "
   ]
  },
  {
   "cell_type": "markdown",
   "metadata": {},
   "source": [
    "Here the `Waiting` and `Doing` states are both subclasses of `Unfinished` so they get the `finish` transition for free, and you can see the result of this in the summary.\n",
    "\n",
    "If you have an object which is in one of these states but you're not sure which, and you'd like to call the `finish` transition, just use the `Unfinished` abstract class:"
   ]
  },
  {
   "cell_type": "code",
   "execution_count": 15,
   "metadata": {},
   "outputs": [],
   "source": [
    "import random\n",
    "\n",
    "for i in range(100):\n",
    "    task = Task()\n",
    "    \n",
    "    # Randomly start doing about half the tasks\n",
    "    if random.random() < 0.5:\n",
    "        Waiting(task).start_doing()\n",
    "    \n",
    "    # Now the task might be either Waiting or Doing\n",
    "    Unfinished(task).finish()"
   ]
  },
  {
   "cell_type": "markdown",
   "metadata": {},
   "source": [
    "This will still fail if you try it on a finished task:"
   ]
  },
  {
   "cell_type": "code",
   "execution_count": 16,
   "metadata": {},
   "outputs": [
    {
     "name": "stdout",
     "output_type": "stream",
     "text": [
      "<__main__.Task object at 0x10e164cf8> should be in state Unfinished but is actually in state Finished\n"
     ]
    }
   ],
   "source": [
    "try:\n",
    "    Unfinished(task).finish()\n",
    "except Exception as e:\n",
    "    print(e)"
   ]
  },
  {
   "cell_type": "markdown",
   "metadata": {},
   "source": [
    "## State machine metadata\n",
    "\n",
    "Machines, states, and transitions have a bunch of attributes that you can inspect:"
   ]
  },
  {
   "cell_type": "code",
   "execution_count": 17,
   "metadata": {},
   "outputs": [],
   "source": [
    "# All concrete (not abstract) states in the machine\n",
    "assert TaskMachine2.states == {Doing, Finished, Waiting}\n",
    "\n",
    "# All the transition functions available for this state\n",
    "assert Waiting.transitions == {Waiting.finish, Waiting.start_doing}\n",
    "\n",
    "# The transition functions defined directly on this class, i.e. not inherited\n",
    "assert Waiting.direct_transitions == {Waiting.start_doing}\n",
    "\n",
    "# Possible output states from this transition\n",
    "assert Waiting.start_doing.output_states == {Doing}\n",
    "\n",
    "# All possible output states from this state via any transition\n",
    "assert Waiting.output_states == {Doing, Finished}\n",
    "\n",
    "# Root of the state machine\n",
    "assert Waiting.machine is TaskMachine2\n",
    "\n",
    "# Booleans about the type of class\n",
    "assert TaskMachine2.is_machine and not Waiting.is_machine\n",
    "assert Waiting.is_state and not Unfinished.is_state\n",
    "assert Unfinished.is_abstract and not Waiting.is_abstract"
   ]
  },
  {
   "cell_type": "markdown",
   "metadata": {},
   "source": [
    "### Slugs and labels\n",
    "\n",
    "Classes also have `slug` and `label` attributes which are mostly for use by Django but may be useful elsewhere. `slug` is for data storage and `label` is for human display.\n",
    "\n",
    "By default, `slug` is just the class name, while `label` is the class name with spaces inserted. Both can be overridden by declaring them in the class."
   ]
  },
  {
   "cell_type": "code",
   "execution_count": 18,
   "metadata": {},
   "outputs": [],
   "source": [
    "assert Waiting.slug == \"Waiting\"\n",
    "assert TaskMachine2.label == \"Task Machine 2\""
   ]
  },
  {
   "cell_type": "markdown",
   "metadata": {},
   "source": [
    "## BaseState - configuring state storage and changes\n",
    "\n",
    "At the root of all the classes in the library is `BaseState`, which has two abstract methods `get_state` and `set_state`. Subclasses determine how the object stores state and what should happen when it changes.\n",
    "\n",
    "For example, here is the start of `AttributeState` which we've been using as the base of our machines so far:\n",
    "\n",
    "```python\n",
    "class AttributeState(BaseState):\n",
    "    attr_name = \"state\"\n",
    "\n",
    "    def get_state(self):\n",
    "        return getattr(self.obj, self.attr_name)\n",
    "```\n",
    "\n",
    "You can declare a different `attr_name` in your machine class to store the state in that attribute of the object.\n",
    "\n",
    "If you're storing your state in a dict or similar object, you can instead use `MappingKeyState`, which starts like this:\n",
    "\n",
    "```python\n",
    "class MappingKeyState(BaseState):\n",
    "    key_name = \"state\"\n",
    "\n",
    "    def get_state(self):\n",
    "        return self.obj[self.key_name]\n",
    "```\n",
    "\n",
    "It can often be useful to override `set_state` to add extra common behaviour when the state changes, e.g:"
   ]
  },
  {
   "cell_type": "code",
   "execution_count": 19,
   "metadata": {},
   "outputs": [],
   "source": [
    "class PrintStateChange(AttributeState):\n",
    "    def set_state(self, previous_state, new_state):\n",
    "        print(f\"Changing {self.obj} from {previous_state} to {new_state}\")\n",
    "        super().set_state(previous_state, new_state)"
   ]
  },
  {
   "cell_type": "markdown",
   "metadata": {},
   "source": [
    "`set_state` is called after the transition method completes.\n",
    "\n",
    "So overall, your class hierarchy typically looks something like this:\n",
    "\n",
    "`BaseState <- AttributeState <- Machine <- Abstract States <- Actual states`\n",
    "\n",
    "## Troubleshooting\n",
    "\n",
    "If things are not working as expected, here are some things to check:\n",
    "\n",
    "- Check the attributes `machine.states`, `state.transitions`, and `transition.output_states` to see if they look as expected.\n",
    "- If you override `set_state`, remember to call `super().set_state(...)`, unless you want to prevent the state from changing or you're subclassing `BaseState` directly.\n",
    "- Check that the annotation on your transition is a list, i.e. it starts and ends with `[]`. For example this will not be recognised as a transition:\n",
    "\n",
    "```python\n",
    "    def start_doing(self) -> Doing:\n",
    "```\n",
    "\n",
    "- If your transition has any decorators, make sure that the decorated function still has the original `__annotations__` attribute. This is usually done by using `functools.wraps` when implementing the decorator.\n",
    "- Make sure that the object stores state the way the machine expects. Typically you'll be using `AttributeState` and you should make sure that `attr_name` (\"state\" by default) is correct. Note that a typical machine expects objects to have just one way of storing state - you can't use the same machine to change state stored in different attributes. To overcome this, see the recipes section.\n",
    "- Check that you've inherited your classes correctly. All states need to inherit from the machine.\n",
    "\n",
    "## Recipes\n",
    "\n",
    "The API of `friendly_states` is intentionally minimal. Here is how you can do some more complicated things.\n",
    "\n",
    "### Construct and draw a graph\n",
    "\n",
    "Here is how to create a graph with the popular library `networkx`:"
   ]
  },
  {
   "cell_type": "code",
   "execution_count": 20,
   "metadata": {},
   "outputs": [
    {
     "name": "stdout",
     "output_type": "stream",
     "text": [
      "[Checking, Finished, Waiting, Doing]\n",
      "[(Checking, Finished), (Waiting, Finished), (Waiting, Doing), (Doing, Checking), (Doing, Finished)]\n"
     ]
    }
   ],
   "source": [
    "import networkx as nx\n",
    "machine = MyMachine\n",
    "\n",
    "G = nx.DiGraph()\n",
    "for state in machine.states:\n",
    "    for output_state in state.output_states:\n",
    "        G.add_edge(state, output_state)\n",
    "\n",
    "print(G.nodes)\n",
    "print(G.edges)"
   ]
  },
  {
   "cell_type": "markdown",
   "metadata": {},
   "source": [
    "To draw the graph with `matplotlib`:"
   ]
  },
  {
   "cell_type": "code",
   "execution_count": 21,
   "metadata": {},
   "outputs": [
    {
     "name": "stderr",
     "output_type": "stream",
     "text": [
      "/Users/alexhall/Desktop/python/friendly_states/venv/lib/python3.7/site-packages/networkx/drawing/nx_pylab.py:579: MatplotlibDeprecationWarning: \n",
      "The iterable function was deprecated in Matplotlib 3.1 and will be removed in 3.3. Use np.iterable instead.\n",
      "  if not cb.iterable(width):\n",
      "/Users/alexhall/Desktop/python/friendly_states/venv/lib/python3.7/site-packages/networkx/drawing/nx_pylab.py:676: MatplotlibDeprecationWarning: \n",
      "The iterable function was deprecated in Matplotlib 3.1 and will be removed in 3.3. Use np.iterable instead.\n",
      "  if cb.iterable(node_size):  # many node sizes\n"
     ]
    },
    {
     "data": {
      "image/png": "[encoded data removed]",
      "text/plain": [
       "<Figure size 432x288 with 1 Axes>"
      ]
     },
     "metadata": {},
     "output_type": "display_data"
    }
   ],
   "source": [
    "%matplotlib inline\n",
    "nx.draw(G, with_labels=True, node_color='pink')   "
   ]
  },
  {
   "cell_type": "markdown",
   "metadata": {},
   "source": [
    "To label each edge requires some more work:"
   ]
  },
  {
   "cell_type": "code",
   "execution_count": 22,
   "metadata": {},
   "outputs": [
    {
     "data": {
      "image/png": "[encoded data removed]",
      "text/plain": [
       "<Figure size 432x288 with 1 Axes>"
      ]
     },
     "metadata": {},
     "output_type": "display_data"
    }
   ],
   "source": [
    "edge_labels = {}\n",
    "G = nx.DiGraph()\n",
    "for state in machine.states:\n",
    "    for transition in state.transitions:\n",
    "        for output_state in transition.output_states:\n",
    "            edge = (state, output_state)\n",
    "            G.add_edge(*edge)\n",
    "            edge_labels[edge] = transition.__name__\n",
    "\n",
    "pos = nx.spring_layout(G)\n",
    "nx.draw(G, pos, with_labels=True, node_color='pink')\n",
    "nx.draw_networkx_edge_labels(G, pos, edge_labels=edge_labels);"
   ]
  },
  {
   "cell_type": "markdown",
   "metadata": {},
   "source": [
    "### Creating multiple similar machines\n",
    "\n",
    "Suppose you want to create several machines with similar states and transitions with duplicating code. You may think you can use inheritance somehow, but that won't work, and in fact a machine can't subclass another machine. Instead you must make a function which creates the classes locally. There are many ways this could be one depending on your needs. Here's an example with identical machines except that one has an additional state:"
   ]
  },
  {
   "cell_type": "code",
   "execution_count": 23,
   "metadata": {},
   "outputs": [],
   "source": [
    "from types import SimpleNamespace\n",
    "\n",
    "def machine_factory():\n",
    "    class Machine(AttributeState):\n",
    "        is_machine = True\n",
    "\n",
    "    class CommonState1(Machine):\n",
    "        def to_common_state_2(self) -> [CommonState2]:\n",
    "            pass\n",
    "\n",
    "    class CommonState2(Machine):\n",
    "        pass\n",
    "\n",
    "    return SimpleNamespace(\n",
    "        Machine=Machine,\n",
    "        CommonState1=CommonState1,\n",
    "        CommonState2=CommonState2,\n",
    "    )\n",
    "\n",
    "\n",
    "machine1 = machine_factory()\n",
    "\n",
    "class DifferentState(machine1.Machine):\n",
    "    def to_common_state_2(self) -> [machine1.CommonState2]:\n",
    "        pass\n",
    "\n",
    "machine1.Machine.complete()\n",
    "\n",
    "@machine1.Machine.check_summary\n",
    "class Summary:\n",
    "    CommonState1: [CommonState2]\n",
    "    CommonState2: []\n",
    "    DifferentState: [CommonState2]\n",
    "\n",
    "\n",
    "machine2 = machine_factory()\n",
    "machine2.Machine.complete()\n",
    "\n",
    "@machine2.Machine.check_summary\n",
    "class Summary:\n",
    "    CommonState1: [CommonState2]\n",
    "    CommonState2: []"
   ]
  },
  {
   "cell_type": "markdown",
   "metadata": {},
   "source": [
    "## Dynamically changing the attribute name\n",
    "\n",
    "A typical `AttributeState` machine can only work with one attribute name. You may need to use the same machine with different object classes that use different attributes. One way is to follow a similar pattern to above with a configurable attribute name:\n",
    "\n",
    "```python\n",
    "def machine_factory(name):\n",
    "    class Machine(AttributeState):\n",
    "        is_machine = True\n",
    "        attr_name = name\n",
    "\n",
    "    ...\n",
    "```\n",
    "\n",
    "Another option, which may be useful for more complicated situations, is to subclass `AttributeState` to accept the attribute name on construction:"
   ]
  },
  {
   "cell_type": "code",
   "execution_count": 24,
   "metadata": {},
   "outputs": [],
   "source": [
    "class DynamicAttributeState(AttributeState):\n",
    "    def __init__(self, obj, attr_name):\n",
    "        # override the class attribute\n",
    "        self.attr_name = attr_name\n",
    "        \n",
    "        # must call super *after* because it checks the state\n",
    "        # in the attribute with the given name\n",
    "        super().__init__(obj)\n",
    "\n",
    "class Machine(DynamicAttributeState):\n",
    "    is_machine = True\n",
    "\n",
    "class Start(Machine):\n",
    "    def to_end(self) -> [End]:\n",
    "        pass\n",
    "\n",
    "class End(Machine):\n",
    "    pass\n",
    "\n",
    "Machine.complete()\n",
    "\n",
    "thing = SimpleNamespace(state=Start, other_state=Start)\n",
    "\n",
    "assert thing.state is Start\n",
    "assert thing.other_state is Start\n",
    "\n",
    "Start(thing, \"state\").to_end()\n",
    "assert thing.state is End\n",
    "assert thing.other_state is Start\n",
    "\n",
    "Start(thing, \"other_state\").to_end()\n",
    "assert thing.state is End\n",
    "assert thing.other_state is End\n"
   ]
  },
  {
   "cell_type": "markdown",
   "metadata": {},
   "source": [
    "### On enter/exit state callbacks\n",
    "\n",
    "Whenever you want to execute some generic logic on every state transition, you should override `set_state`. But if you put all your code in there it may get long and confusing. If you want to group this logic into your state classes whenever a transition enters or exits that state, here's a mixin that you can apply to any machine:"
   ]
  },
  {
   "cell_type": "code",
   "execution_count": 25,
   "metadata": {},
   "outputs": [],
   "source": [
    "class OnEnterExitMixin:\n",
    "    def set_state(self, previous_state, new_state):\n",
    "        previous_state(self.obj).on_exit(new_state)\n",
    "        super().set_state(previous_state, new_state)\n",
    "        new_state(self.obj).on_enter(previous_state)\n",
    "\n",
    "    def on_exit(self, new_state):\n",
    "        pass\n",
    "\n",
    "    def on_enter(self, previous_state):\n",
    "        pass"
   ]
  },
  {
   "cell_type": "markdown",
   "metadata": {},
   "source": [
    "Then use it as follows:"
   ]
  },
  {
   "cell_type": "code",
   "execution_count": 26,
   "metadata": {},
   "outputs": [
    {
     "name": "stdout",
     "output_type": "stream",
     "text": [
      "Ending from Start\n"
     ]
    }
   ],
   "source": [
    "class Machine(OnEnterExitMixin, AttributeState):\n",
    "    is_machine = True\n",
    "\n",
    "class Start(Machine):\n",
    "    def end(self) -> [End]:\n",
    "        pass\n",
    "\n",
    "class End(Machine):\n",
    "    def on_enter(self, previous_state):\n",
    "        print(f\"Ending from {previous_state}\")\n",
    "\n",
    "Machine.complete()\n",
    "\n",
    "thing = SimpleNamespace(state=Start)\n",
    "Start(thing).end()"
   ]
  },
  {
   "cell_type": "markdown",
   "metadata": {},
   "source": [
    "## Django integration\n",
    "\n",
    "`friendly_states` can easily be used out of the box with Django. Basic usage looks like this:\n",
    "\n",
    "```python\n",
    "from django.db import models\n",
    "from friendly_states.django import StateField, DjangoState\n",
    "\n",
    "class MyMachine(DjangoState):\n",
    "    is_machine = True\n",
    "    \n",
    "# ...\n",
    "\n",
    "class MyModel(models.Model):\n",
    "    state = StateField(MyMachine)\n",
    "```\n",
    "\n",
    "`StateField` is a `CharField` that stores the `slug` of the current state in the database while letting you use the actual state class objects in all your code, e.g:\n",
    "\n",
    "```python\n",
    "obj = MyModel.objects.create(state=MyState)\n",
    "assert obj.state is MyState\n",
    "objects = MyModel.objects.filter(state=MyState)\n",
    "```\n",
    "\n",
    "All keyword arguments are passed straight to `CharField`, except for `max_length` and `choices` which are ignored, see below.\n",
    "\n",
    "`DjangoState` will automatically save your model after state transitions. To disable this, set `auto_save = False` on your machine or state classes.\n",
    "\n",
    "`StateField` will automatically discover its name in the model and set that `attr_name` on the machine, so you don't need to set it. But as usual, beware that you can't use different attribute names for the same machine. Also note that the name `_state` is used internally by Django so don't use that.\n",
    "\n",
    "Because the database stores slugs and the slug is the class name by default, if you rename your classes in code and you want existing data to remain valid, you should set the slug to the old class name:\n",
    "\n",
    "```python\n",
    "class MyRenamedState(MyMachine):\n",
    "    slug = \"MyState\"\n",
    "    ...\n",
    "```\n",
    "\n",
    "Similarly you mustn't delete a state class if you stop using it as long as your database contains objects in that state, or your code will fail when it tries to work with such an object.\n",
    "\n",
    "`max_length` is automatically set to the maximum length of all the slugs in the machine. If you want to save space in your database, override the slugs to something shorter.\n",
    "\n",
    "`choices` is constructed from the `slug` and `label` of every state. To customise how states are displayed in forms etc, override the `label` attribute on the class."
   ]
  },
  {
   "cell_type": "code",
   "execution_count": null,
   "metadata": {},
   "outputs": [],
   "source": []
  }
 ],
 "metadata": {
  "kernelspec": {
   "display_name": "Python 3",
   "language": "python",
   "name": "python3"
  },
  "language_info": {
   "codemirror_mode": {
    "name": "ipython",
    "version": 3
   },
   "file_extension": ".py",
   "mimetype": "text/x-python",
   "name": "python",
   "nbconvert_exporter": "python",
   "pygments_lexer": "ipython3",
   "version": "3.7.1"
  }
 },
 "nbformat": 4,
 "nbformat_minor": 2
}
