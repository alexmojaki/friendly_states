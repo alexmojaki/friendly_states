{
 "cells": [
  {
   "cell_type": "markdown",
   "metadata": {},
   "source": [
    "# friendly_states\n",
    "\n",
    "This is a Python library for writing finite state machines in a way that's easy to read and prevents mistakes with the help of standard linters and IDEs.\n",
    "\n",
    "Here's a simple example of declaring a state machine:"
   ]
  },
  {
   "cell_type": "code",
   "execution_count": 1,
   "metadata": {},
   "outputs": [],
   "source": [
    "from __future__ import annotations\n",
    "from friendly_states import AttributeState\n",
    "\n",
    "\n",
    "class TrafficLightMachine(AttributeState):\n",
    "    is_machine = True\n",
    "\n",
    "    class Summary:\n",
    "        Green: [Yellow]\n",
    "        Yellow: [Red]\n",
    "        Red: [Green]\n",
    "\n",
    "\n",
    "class Green(TrafficLightMachine):\n",
    "    def slow_down(self) -> [Yellow]:\n",
    "        print(\"Slowing down...\")\n",
    "\n",
    "\n",
    "class Yellow(TrafficLightMachine):\n",
    "    def stop(self) -> [Red]:\n",
    "        print(\"Stop.\")\n",
    "\n",
    "\n",
    "class Red(TrafficLightMachine):\n",
    "    def go(self) -> [Green]:\n",
    "        print(\"Go!\")\n",
    "\n",
    "\n",
    "TrafficLightMachine.complete()"
   ]
  },
  {
   "cell_type": "markdown",
   "metadata": {},
   "source": [
    "That looks like a lot of code, but it's pretty simple:\n",
    "\n",
    "1. `TrafficLightMachine` declares the root of a state machine.\n",
    "2. There are three states, which are subclasses of the machine: `Green`, `Yellow`, and `Red`.\n",
    "3. Each state declares which transitions it allows to other states using functions with a return annotation (`->`). In this case, each state has one transition to one other state. For example, `Green` can transition to `Yellow` via the `slow_down` method.\n",
    "4. `TrafficLightMachine.complete()` makes the machine ready for use and checks that everything is correct. In particular it verifies that the `Summary` class inside `TrafficLightMachine` matches the actual states and transitions declared. Each line of the summary shows all the possible output states from each state.\n",
    "\n",
    "As we'll see later, a lot of the boilerplate can be generated for you, so don't worry about the effort of writing all those classes.\n",
    "\n",
    "To use this machine, first we need an object that can store its own state. When using this library, state can be stored however you want, but the way we've declared our machine means it expects an attribute called `state`:"
   ]
  },
  {
   "cell_type": "code",
   "execution_count": 2,
   "metadata": {},
   "outputs": [
    {
     "data": {
      "text/plain": [
       "Green"
      ]
     },
     "execution_count": 2,
     "metadata": {},
     "output_type": "execute_result"
    }
   ],
   "source": [
    "class TrafficLight:\n",
    "    def __init__(self, state):\n",
    "        self.state = state\n",
    "\n",
    "light = TrafficLight(Green)\n",
    "light.state"
   ]
  },
  {
   "cell_type": "markdown",
   "metadata": {},
   "source": [
    "The magic happens when making transitions:"
   ]
  },
  {
   "cell_type": "code",
   "execution_count": 3,
   "metadata": {},
   "outputs": [
    {
     "name": "stdout",
     "output_type": "stream",
     "text": [
      "Slowing down...\n",
      "Stop.\n"
     ]
    },
    {
     "data": {
      "text/plain": [
       "Red"
      ]
     },
     "execution_count": 3,
     "metadata": {},
     "output_type": "execute_result"
    }
   ],
   "source": [
    "Green(light).slow_down()\n",
    "Yellow(light).stop()\n",
    "light.state"
   ]
  },
  {
   "cell_type": "markdown",
   "metadata": {},
   "source": [
    "Making an instance of a state class such as `Green(light)` automatically checks that `light` is actually in the `Green` state and raises an exception if it's not.\n",
    "Then you can call methods just like any other class. The state will automatically be changed based on the method's return annotation.\n",
    "\n",
    "Why is this exciting? Because it's obvious to tools which transitions are available to each state. Your IDE can autocomplete `Green(light).slo` for you, and `Green(light).stop()` will be highlighted as an error before you even run the code.\n",
    "\n",
    "Compare this with the popular library [`transitions`](https://github.com/pytransitions/transitions). States, transitions, and callbacks are all declared using strings, so it's easy to make typos and tools can't help you. In fact you have to stop your tools from warning you about all the attributes it magically generates which you have to use. There's no easy way to see all the transitions or output states from a particular state. Callbacks can be declared far away from transitions.\n",
    "\n",
    "By contrast, when using `friendly_states`, there are no strings or magic attributes anywhere. Code is always naturally grouped together: all the transitions specific to a state appear inside that class, and logic related to a transition is in that function where you'd expect it.\n",
    "\n",
    "## Basic usage steps\n",
    "\n",
    "1) Ensure that you are using Python 3.7+.\n",
    "\n",
    "2) Install this library with `pip install friendly_states`.\n",
    "\n",
    "3) Add the line `from __future__ import annotations` at the top of the file where you define your state machine.\n",
    "\n",
    "4) Declare the root of your state machine like so:"
   ]
  },
  {
   "cell_type": "code",
   "execution_count": 4,
   "metadata": {},
   "outputs": [],
   "source": [
    "from __future__ import annotations\n",
    "from friendly_states import AttributeState\n",
    "    \n",
    "class MyMachine(AttributeState):\n",
    "    is_machine = True\n",
    "    \n",
    "    class Summary:\n",
    "        Waiting: [Doing, Finished]\n",
    "        Doing: [Checking, Finished]\n",
    "        Checking: [Finished]\n",
    "        Finished: []\n"
   ]
  },
  {
   "cell_type": "markdown",
   "metadata": {},
   "source": [
    "Declaring a summary is optional, but highly recommended. The class must be named `Summary`.\n",
    "It should declare the name of every state your machine will have, \n",
    "each annotated with a list of every state that can be reached directly from that state by any transition.\n",
    "   \n",
    "When you call `MyMachine.complete()`, this summary will be checked, and an exception will be raised explaining the problem if it doesn't match your state classes. In particular if a class is missing the exception will contain generated source code for that class so you can spend less time writing boilerplate. Let's try it now:"
   ]
  },
  {
   "cell_type": "code",
   "execution_count": 5,
   "metadata": {},
   "outputs": [
    {
     "name": "stdout",
     "output_type": "stream",
     "text": [
      "\n",
      "Missing states:\n",
      "\n",
      "class Waiting(MyMachine):\n",
      "    def to_doing(self) -> [Doing]:\n",
      "        pass\n",
      "\n",
      "    def to_finished(self) -> [Finished]:\n",
      "        pass\n",
      "\n",
      "\n",
      "class Doing(MyMachine):\n",
      "    def to_checking(self) -> [Checking]:\n",
      "        pass\n",
      "\n",
      "    def to_finished(self) -> [Finished]:\n",
      "        pass\n",
      "\n",
      "\n",
      "class Checking(MyMachine):\n",
      "    def to_finished(self) -> [Finished]:\n",
      "        pass\n",
      "\n",
      "\n",
      "class Finished(MyMachine):\n",
      "    pass\n",
      "\n",
      "\n",
      "\n"
     ]
    }
   ],
   "source": [
    "try:\n",
    "    MyMachine.complete()\n",
    "except Exception as e:\n",
    "    print(e)"
   ]
  },
  {
   "cell_type": "markdown",
   "metadata": {},
   "source": [
    "You can copy the code above and will have a working state machine matching the summary. It's usually not exactly what you need, but it should save you a lot of time for the next step.\n",
    "\n",
    "5) Write a class for each state. In this case our final code will look pretty similar to the generated boilerplate above. Make sure you call `.complete()` at the end."
   ]
  },
  {
   "cell_type": "code",
   "execution_count": 6,
   "metadata": {},
   "outputs": [],
   "source": [
    "class Waiting(MyMachine):\n",
    "    def start_doing(self) -> [Doing]:\n",
    "        print('Starting now!')   \n",
    "\n",
    "    def skip(self) -> [Finished]:\n",
    "        pass   \n",
    "\n",
    "\n",
    "class Doing(MyMachine):\n",
    "    def done(self, result) -> [Checking, Finished]:\n",
    "        self.obj.result = result\n",
    "        if self.obj.needs_checking():\n",
    "            return Checking\n",
    "        else:\n",
    "            return Finished\n",
    "\n",
    "\n",
    "class Checking(MyMachine):\n",
    "    def check(self) -> [Finished]:\n",
    "        print('Looks good!')\n",
    "\n",
    "\n",
    "class Finished(MyMachine):\n",
    "    pass\n",
    "\n",
    "\n",
    "MyMachine.complete()"
   ]
  },
  {
   "cell_type": "markdown",
   "metadata": {},
   "source": [
    "State classes must inherit (directly or indirectly) from the machine class, e.g. `class Waiting(MyMachine):`. A class can have any number of transitions. `Waiting` has two separate transitions, while `Finished` has none, meaning you can't leave that state. It can also have any other methods or attributes which are not transitions, like a normal class.\n",
    "\n",
    "A transition is any method which has a return annotation (the bit after the `->` in the function definition) which is a list. The list must have one or more states that will be the result of this transition. For example, this code:\n",
    "\n",
    "```python\n",
    "class Waiting(MyMachine):\n",
    "    def start_doing(self) -> [Doing]:\n",
    "```\n",
    "\n",
    "means that `start_doing` is a transition from the state `Waiting` to the state `Doing`, and calling that method will change the state.\n",
    "\n",
    "The transition `Doing.done` demonstrates several interesting things:\n",
    "\n",
    "- A transition can have multiple output states. In that case the method must return one of those states to indicate which one to switch to.\n",
    "- Transitions are just like normal methods and can accept whatever arguments you want.\n",
    "- States have an attribute `obj` which is the object that was passed to the class when it was constructed. This lets you interact with the object whose state is changing.\n",
    "\n",
    "6) The machine doesn't store the state itself, make a different class for that:"
   ]
  },
  {
   "cell_type": "code",
   "execution_count": 7,
   "metadata": {},
   "outputs": [],
   "source": [
    "class Task:\n",
    "    def __init__(self):\n",
    "        self.state = Waiting\n",
    "        self.result = None\n",
    "    \n",
    "    def needs_checking(self):\n",
    "        return self.result < 5\n",
    "\n",
    "    \n",
    "task = Task()\n",
    "assert task.result is None\n",
    "assert task.state is Waiting"
   ]
  },
  {
   "cell_type": "markdown",
   "metadata": {},
   "source": [
    "Our example machine expects to find an attribute called `state` on its objects, as we've provided here. If you have different needs, see the [TODO](#TODO) section.\n",
    "\n",
    "To change the state of your object, you first need to know what state it's in right now. Sometimes you'll need to check, but often it'll be obvious in the context of your application. For example, if we have a queue of fresh tasks, any task we pop from that queue will be in state `Waiting`.\n",
    "\n",
    "Construct an instance of the correct state class and pass your object:"
   ]
  },
  {
   "cell_type": "code",
   "execution_count": 8,
   "metadata": {},
   "outputs": [
    {
     "data": {
      "text/plain": [
       "Waiting(obj=<__main__.Task object at 0x112bca7b8>)"
      ]
     },
     "execution_count": 8,
     "metadata": {},
     "output_type": "execute_result"
    }
   ],
   "source": [
    "Waiting(task)"
   ]
  },
  {
   "cell_type": "markdown",
   "metadata": {},
   "source": [
    "If you get the current state of a task wrong, that means there's a bug in your code! \n",
    "It will throw an exception before you can even call any transitions:"
   ]
  },
  {
   "cell_type": "code",
   "execution_count": 9,
   "metadata": {},
   "outputs": [
    {
     "name": "stdout",
     "output_type": "stream",
     "text": [
      "<__main__.Task object at 0x112bca7b8> should be in state Doing but is actually in state Waiting\n"
     ]
    }
   ],
   "source": [
    "try:\n",
    "    Doing(task)\n",
    "except Exception as e:\n",
    "    print(e)"
   ]
  },
  {
   "cell_type": "markdown",
   "metadata": {},
   "source": [
    "Once you have an instance of the correct state, call whatever methods you want on it as usual. If the method is a transition, the state will automatically be changed afterwards:"
   ]
  },
  {
   "cell_type": "code",
   "execution_count": 10,
   "metadata": {},
   "outputs": [],
   "source": [
    "Waiting(task).skip()\n",
    "assert task.state is Finished"
   ]
  },
  {
   "cell_type": "markdown",
   "metadata": {},
   "source": [
    "If you try calling a transition that doesn't exist for a state, the library doesn't even need to do anything. You'll just get the plain Python error you always get when calling a non-existent method, and your IDE/linter will warn you in advance:"
   ]
  },
  {
   "cell_type": "code",
   "execution_count": 11,
   "metadata": {},
   "outputs": [
    {
     "name": "stdout",
     "output_type": "stream",
     "text": [
      "'Waiting' object has no attribute 'done'\n"
     ]
    }
   ],
   "source": [
    "task = Task()\n",
    "try:\n",
    "    Waiting(task).done(3)\n",
    "except AttributeError as e:\n",
    "    print(e)"
   ]
  },
  {
   "cell_type": "markdown",
   "metadata": {},
   "source": [
    "Here are the other 2 possible paths for a task from waiting to finished:"
   ]
  },
  {
   "cell_type": "code",
   "execution_count": 12,
   "metadata": {},
   "outputs": [
    {
     "name": "stdout",
     "output_type": "stream",
     "text": [
      "Starting now!\n",
      "Looks good!\n"
     ]
    }
   ],
   "source": [
    "task = Task()\n",
    "Waiting(task).start_doing()\n",
    "Doing(task).done(3)\n",
    "assert task.result == 3\n",
    "Checking(task).check()\n",
    "assert task.state is Finished"
   ]
  },
  {
   "cell_type": "code",
   "execution_count": 13,
   "metadata": {},
   "outputs": [
    {
     "name": "stdout",
     "output_type": "stream",
     "text": [
      "Starting now!\n"
     ]
    }
   ],
   "source": [
    "task = Task()\n",
    "Waiting(task).start_doing()\n",
    "Doing(task).done(7)\n",
    "# The result '7' doesn't need checking\n",
    "assert task.state is Finished"
   ]
  },
  {
   "cell_type": "markdown",
   "metadata": {},
   "source": [
    "## Abstract state classes\n",
    "\n",
    "Sometimes you will have common behaviour that you need to share between state classes. In that case you can use class inheritance. Here's what you need to be aware of:\n",
    "\n",
    "1. You can't inherit from actual state classes.\n",
    "2. Transitions must live in classes that inherit (directly or indirectly) from the machine class.\n",
    "3. Classes that inherit from the machine (and thus can have transitions) but do not represent actual states (and thus can be inherited from) should have `abstract = True` in their body.\n",
    "\n",
    "Here's an example:"
   ]
  },
  {
   "cell_type": "code",
   "execution_count": 14,
   "metadata": {},
   "outputs": [],
   "source": [
    "class TaskMachine2(AttributeState):\n",
    "    is_machine = True\n",
    "    \n",
    "    class Summary:\n",
    "        Waiting: [Doing, Finished]\n",
    "        Doing: [Finished]\n",
    "        Finished: []\n",
    "\n",
    "            \n",
    "class Unfinished(TaskMachine2):\n",
    "    is_abstract = True\n",
    "    \n",
    "    def finish(self) -> [Finished]:\n",
    "        pass\n",
    "\n",
    "    \n",
    "class Waiting(Unfinished):\n",
    "    def start_doing(self) -> [Doing]:\n",
    "        pass\n",
    "\n",
    "\n",
    "class Doing(Unfinished):\n",
    "    pass\n",
    "\n",
    "\n",
    "class Finished(TaskMachine2):\n",
    "    pass\n",
    "\n",
    "\n",
    "TaskMachine2.complete()    "
   ]
  },
  {
   "cell_type": "markdown",
   "metadata": {},
   "source": [
    "Here the `Waiting` and `Doing` states are both subclasses of `Unfinished` so they get the `finish` transition for free, and you can see the result of this in the summary.\n",
    "\n",
    "If you have an object which is in one of these states but you're not sure which, and you'd like to call the `finish` transition, just use the `Unfinished` abstract class:"
   ]
  },
  {
   "cell_type": "code",
   "execution_count": 15,
   "metadata": {},
   "outputs": [],
   "source": [
    "import random\n",
    "\n",
    "for i in range(100):\n",
    "    task = Task()\n",
    "    \n",
    "    # Randomly start doing about half the tasks\n",
    "    if random.random() < 0.5:\n",
    "        Waiting(task).start_doing()\n",
    "    \n",
    "    # Now the task might be either Waiting or Doing\n",
    "    Unfinished(task).finish()"
   ]
  },
  {
   "cell_type": "markdown",
   "metadata": {},
   "source": [
    "This will still fail if you try it on a finished task:"
   ]
  },
  {
   "cell_type": "code",
   "execution_count": 16,
   "metadata": {},
   "outputs": [
    {
     "name": "stdout",
     "output_type": "stream",
     "text": [
      "<__main__.Task object at 0x112bcacc0> should be in state Unfinished but is actually in state Finished\n"
     ]
    }
   ],
   "source": [
    "try:\n",
    "    Unfinished(task).finish()\n",
    "except Exception as e:\n",
    "    print(e)"
   ]
  },
  {
   "cell_type": "markdown",
   "metadata": {},
   "source": [
    "## State machine metadata\n",
    "\n",
    "Machines, states, and transitions have a bunch of attributes that you can inspect:"
   ]
  },
  {
   "cell_type": "code",
   "execution_count": 17,
   "metadata": {},
   "outputs": [],
   "source": [
    "# All concrete (not abstract) states in the machine\n",
    "assert TaskMachine2.states == {Doing, Finished, Waiting}\n",
    "\n",
    "# All the transition functions available for this state\n",
    "assert Waiting.transitions == {Waiting.finish, Waiting.start_doing}\n",
    "\n",
    "# The transition functions defined directly on this class, i.e. not inherited\n",
    "assert Waiting.direct_transitions == {Waiting.start_doing}\n",
    "\n",
    "# Possible output states from this transition\n",
    "assert Waiting.start_doing.output_states == {Doing}\n",
    "\n",
    "# All possible output states from this state via any transition\n",
    "assert Waiting.output_states == {Doing, Finished}\n",
    "\n",
    "# Root of the state machine\n",
    "assert Waiting.machine is TaskMachine2\n",
    "\n",
    "# Booleans about the type of class\n",
    "assert TaskMachine2.is_machine and not Waiting.is_machine\n",
    "assert Waiting.is_state and not Unfinished.is_state\n",
    "assert Unfinished.is_abstract and not Waiting.is_abstract"
   ]
  },
  {
   "cell_type": "markdown",
   "metadata": {},
   "source": [
    "### Slugs and labels\n",
    "\n",
    "Classes also have `slug` and `label` attributes which are mostly for use by Django but may be useful elsewhere. `slug` is for data storage and `label` is for human display.\n",
    "\n",
    "By default, `slug` is just the class name, while `label` is the class name with spaces inserted. Both can be overridden by declaring them in the class."
   ]
  },
  {
   "cell_type": "code",
   "execution_count": 18,
   "metadata": {},
   "outputs": [],
   "source": [
    "assert Waiting.slug == \"Waiting\"\n",
    "assert TaskMachine2.label == \"Task Machine 2\""
   ]
  },
  {
   "cell_type": "markdown",
   "metadata": {},
   "source": [
    "## BaseState - configuring state storage and changes\n",
    "\n",
    "At the root of all the classes in the library is `BaseState`, which has two abstract methods `get_state` and `set_state`. Subclasses determine how the object stores state and what should happen when it changes.\n",
    "\n",
    "For example, here is the start of `AttributeState` which we've been using as the base of our machines so far:\n",
    "\n",
    "```python\n",
    "class AttributeState(BaseState):\n",
    "    attr_name = \"state\"\n",
    "\n",
    "    def get_state(self):\n",
    "        return getattr(self.obj, self.attr_name)\n",
    "```\n",
    "\n",
    "You can declare a different `attr_name` in your machine class to store the state in that attribute of the object.\n",
    "\n",
    "If you're storing your state in a dict or similar object, you can instead use `MappingKeyState`, which starts like this:\n",
    "\n",
    "```python\n",
    "class MappingKeyState(BaseState):\n",
    "    key_name = \"state\"\n",
    "\n",
    "    def get_state(self):\n",
    "        return self.obj[self.key_name]\n",
    "```\n",
    "\n",
    "It can often be useful to override `set_state` to add extra common behaviour when the state changes, e.g:"
   ]
  },
  {
   "cell_type": "code",
   "execution_count": 22,
   "metadata": {},
   "outputs": [],
   "source": [
    "class PrintStateChange(AttributeState):\n",
    "    def set_state(self, previous_state, new_state):\n",
    "        print(f\"Changing {self.obj} from {previous_state} to {new_state}\")\n",
    "        super().set_state(previous_state, new_state)"
   ]
  },
  {
   "cell_type": "markdown",
   "metadata": {},
   "source": [
    "`set_state` is called after the transition method completes.\n",
    "\n",
    "So overall, your class hierarchy typically looks something like this:\n",
    "\n",
    "`BaseState <- AttributeState <- Machine <- Abstract States <- Actual states`\n",
    "\n",
    "## Troubleshooting\n",
    "\n",
    "If things are not working as expected, here are some things to check:\n",
    "\n",
    "- Check the attributes `machine.states`, `state.transitions`, and `transition.output_states` to see if they look as expected.\n",
    "- If you override `set_state`, remember to call `super().set_state(...)`, unless you want to prevent the state from changing or you're subclassing `BaseState` directly.\n",
    "- Check that the annotation on your transition is a list, i.e. it starts and ends with `[]`. For example this will not be recognised as a transition:\n",
    "\n",
    "```python\n",
    "    def start_doing(self) -> Doing:\n",
    "```\n",
    "\n",
    "- If your transition has any decorators, make sure that the decorated function still has the original `__annotations__` attribute. This is usually done by using `functools.wraps` when implementing the decorator.\n",
    "- Make sure that the object stores state the way the machine expects. Typically you'll be using `AttributeState` and you should make sure that `attr_name` (\"state\" by default) is correct. Note that a typical machine expects objects to have just one way of storing state - you can't use the same machine to change state stored in different attributes. To overcome this, see the recipes section.\n",
    "- Check that you've inherited your classes correctly. All states need to inherit from the machine."
   ]
  },
  {
   "cell_type": "code",
   "execution_count": null,
   "metadata": {},
   "outputs": [],
   "source": []
  }
 ],
 "metadata": {
  "kernelspec": {
   "display_name": "Python 3",
   "language": "python",
   "name": "python3"
  },
  "language_info": {
   "codemirror_mode": {
    "name": "ipython",
    "version": 3
   },
   "file_extension": ".py",
   "mimetype": "text/x-python",
   "name": "python",
   "nbconvert_exporter": "python",
   "pygments_lexer": "ipython3",
   "version": "3.7.1"
  }
 },
 "nbformat": 4,
 "nbformat_minor": 2
}
